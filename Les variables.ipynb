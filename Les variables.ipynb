{
 "cells": [
  {
   "cell_type": "markdown",
   "metadata": {},
   "source": [
    "# Les variables"
   ]
  },
  {
   "cell_type": "markdown",
   "metadata": {},
   "source": [
    "## Qu'est-ce qu’une variable ?"
   ]
  },
  {
   "cell_type": "markdown",
   "metadata": {},
   "source": [
    "C'est un emplacement de la mémoire où on stocke une *valeur* d'un certain *type* (nombre, texte, etc.).\n",
    "\n",
    "En quelque sorte, c'est une boîte contenant une donnée, rangée quelque part dans la mémoire de l'ordinateur portant un nom pour la repérer."
   ]
  },
  {
   "cell_type": "code",
   "execution_count": 4,
   "metadata": {},
   "outputs": [],
   "source": [
    "prixTTC = 20.5"
   ]
  },
  {
   "cell_type": "markdown",
   "metadata": {},
   "source": [
    "Içi on a une variable nommée `prixTTC` contenant la valeur `20.5`; elle est donc de type numérique."
   ]
  },
  {
   "cell_type": "markdown",
   "metadata": {},
   "source": [
    "## Type d'une variable"
   ]
  },
  {
   "cell_type": "markdown",
   "metadata": {},
   "source": [
    "Une variable ne contient pas forcément un nombre. Elle peut contenir aussi du texte et bien d'autres choses (ce que nous verrons par la suite).\n",
    "\n",
    "Les types de base sont :\n",
    "* les nombres entiers (12, -5) : `int`\n",
    "* les nombres à virgule (12.3, 1.2e4) : `float`\n",
    "* les chaines de caractère ('info', \"NSI\") : `str`\n",
    "* les booléens (`True` pour vrai ,`False`pour faux) : `bool`\n",
    "\n",
    "L'instruction `type`permet de connaitre le type d'une variable."
   ]
  },
  {
   "cell_type": "code",
   "execution_count": 24,
   "metadata": {},
   "outputs": [
    {
     "data": {
      "text/plain": [
       "float"
      ]
     },
     "execution_count": 24,
     "metadata": {},
     "output_type": "execute_result"
    }
   ],
   "source": [
    "prixTTC = 12.35\n",
    "type(prixTTC)"
   ]
  },
  {
   "cell_type": "markdown",
   "metadata": {},
   "source": [
    "On peut effectuer certaines opérations sur les variables selon leurs types; en voiçi quelques unes, les plus importantes."
   ]
  },
  {
   "cell_type": "markdown",
   "metadata": {},
   "source": [
    "## Opérations sur les variables "
   ]
  },
  {
   "cell_type": "markdown",
   "metadata": {},
   "source": [
    "#### Opérations sur les `int`"
   ]
  },
  {
   "cell_type": "markdown",
   "metadata": {},
   "source": [
    "`+`,`-`,`*`,`**`(puissance),`/`,`//` (quotient entier),`%`(reste entier)"
   ]
  },
  {
   "cell_type": "code",
   "execution_count": 30,
   "metadata": {},
   "outputs": [
    {
     "name": "stdout",
     "output_type": "stream",
     "text": [
      "5.333333333333333\n",
      "5\n",
      "1\n"
     ]
    }
   ],
   "source": [
    "print(16/3)\n",
    "print(16//3)\n",
    "print(16%3)"
   ]
  },
  {
   "cell_type": "markdown",
   "metadata": {},
   "source": [
    "#### Opérations sur les `float`"
   ]
  },
  {
   "cell_type": "markdown",
   "metadata": {},
   "source": [
    "`+`,`-`,`*`,`/`,`**`"
   ]
  },
  {
   "cell_type": "markdown",
   "metadata": {},
   "source": [
    "#### Opérations sur les `str`"
   ]
  },
  {
   "cell_type": "markdown",
   "metadata": {},
   "source": [
    "`+`(concaténation), `*` (duplication)"
   ]
  },
  {
   "cell_type": "code",
   "execution_count": 26,
   "metadata": {},
   "outputs": [
    {
     "name": "stdout",
     "output_type": "stream",
     "text": [
      "hahi\n",
      "hahahahaha\n"
     ]
    }
   ],
   "source": [
    "s1 = 'ha'\n",
    "s2 ='hi'\n",
    "s3 = s1+s2\n",
    "s4 = s1*5\n",
    "print(s3)\n",
    "print(s4)"
   ]
  },
  {
   "cell_type": "markdown",
   "metadata": {},
   "source": [
    "## Instructions de base sur les variables."
   ]
  },
  {
   "cell_type": "markdown",
   "metadata": {},
   "source": [
    "### L'affectation"
   ]
  },
  {
   "cell_type": "markdown",
   "metadata": {},
   "source": [
    "L'*affectation* est l'instruction qui consiste à donner une valeur à une variable. \n",
    "\n",
    "En python, l'affectation se fait grâce au smbole `=`."
   ]
  },
  {
   "cell_type": "code",
   "execution_count": 7,
   "metadata": {},
   "outputs": [
    {
     "data": {
      "text/plain": [
       "33.839999999999996"
      ]
     },
     "execution_count": 7,
     "metadata": {},
     "output_type": "execute_result"
    }
   ],
   "source": [
    "prixHT = 28.20\n",
    "tauxTVA = 0.2\n",
    "prixTTC = prixHT*(1+tauxTVA)\n",
    "prixTTC"
   ]
  },
  {
   "cell_type": "markdown",
   "metadata": {},
   "source": [
    "Attention, le symbole `=` utilisé ici n'a rien à voir avec celui des mathématiques !"
   ]
  },
  {
   "cell_type": "code",
   "execution_count": null,
   "metadata": {},
   "outputs": [],
   "source": [
    "x = 1 # cette instruction signifie que x prend 1 comme valeur\n",
    "print(x)\n",
    "x = x + 1 # cette instruction signfie que x prend comme nouvelle valeur l'ancienne augmentée de 1 c-à-d 2\n",
    "print(x)"
   ]
  },
  {
   "cell_type": "markdown",
   "metadata": {},
   "source": [
    "### La saisie"
   ]
  },
  {
   "cell_type": "markdown",
   "metadata": {},
   "source": [
    "La saisie consiste à saisir au clavier la valeur d'une variable."
   ]
  },
  {
   "cell_type": "markdown",
   "metadata": {},
   "source": [
    "En python, la saisie se fait grâce à l'instruction `input`."
   ]
  },
  {
   "cell_type": "code",
   "execution_count": 10,
   "metadata": {},
   "outputs": [
    {
     "name": "stdout",
     "output_type": "stream",
     "text": [
      "message25\n"
     ]
    }
   ],
   "source": [
    "nomVariable = input('message')"
   ]
  },
  {
   "cell_type": "markdown",
   "metadata": {},
   "source": [
    "L'instruction `input` ne permet de saisir qu'une chaine de caractère donc si on veut saisir autre choqe qu'une chaine de caractère, il faudra convertir le résultat grâce aux fonctions de conversion dont :\n",
    "* pour un entier, `int`,\n",
    "* pour un décimal : `float`,\n",
    "* pour une chaine : `str`."
   ]
  },
  {
   "cell_type": "code",
   "execution_count": null,
   "metadata": {},
   "outputs": [],
   "source": [
    "age = input('Age : ')\n",
    "print(type(age))\n",
    "age = int(input('Age : '))\n",
    "print(type(age))"
   ]
  },
  {
   "cell_type": "markdown",
   "metadata": {},
   "source": [
    "### L'affichage"
   ]
  },
  {
   "cell_type": "markdown",
   "metadata": {},
   "source": [
    "L'affichage consiste à afficher à l'écran l'évaluation d'une expression (le résultat d'un calcul, le contenu d'une variable).a valeur d'une variable."
   ]
  },
  {
   "cell_type": "markdown",
   "metadata": {},
   "source": [
    "En python, l'affichage se fait grâce à l'instruction `print`."
   ]
  },
  {
   "cell_type": "code",
   "execution_count": null,
   "metadata": {},
   "outputs": [],
   "source": [
    "an = 2019\n",
    "print(an)"
   ]
  },
  {
   "cell_type": "markdown",
   "metadata": {},
   "source": [
    "On peut afficher plusieurs expressions en les séparant par des virgules `,`."
   ]
  },
  {
   "cell_type": "code",
   "execution_count": null,
   "metadata": {},
   "outputs": [],
   "source": [
    "print(\"Nous sommes en \",an,\" et l'an prochain, nous serons en \",an+1,\" .\")"
   ]
  },
  {
   "cell_type": "markdown",
   "metadata": {},
   "source": [
    "## Les exercices"
   ]
  },
  {
   "cell_type": "markdown",
   "metadata": {},
   "source": [
    "##### Exercice 1 Le rectangle"
   ]
  },
  {
   "cell_type": "markdown",
   "metadata": {},
   "source": [
    "Ecrire un programme qui demande les dimensions d'un rectangle puis calcule et affiche son périmètre et son aire."
   ]
  },
  {
   "cell_type": "code",
   "execution_count": null,
   "metadata": {},
   "outputs": [],
   "source": []
  },
  {
   "cell_type": "markdown",
   "metadata": {},
   "source": [
    "##### Exercice 2 Le triangle rectangle"
   ]
  },
  {
   "cell_type": "markdown",
   "metadata": {},
   "source": [
    "Même chose mais cette fois avec un triangle rectangle."
   ]
  },
  {
   "cell_type": "code",
   "execution_count": null,
   "metadata": {},
   "outputs": [],
   "source": []
  },
  {
   "cell_type": "markdown",
   "metadata": {},
   "source": [
    "##### Exercice 3 Echange"
   ]
  },
  {
   "cell_type": "markdown",
   "metadata": {},
   "source": [
    "Ecrire un programme qui permet d'échanger le contenu de deux variables."
   ]
  },
  {
   "cell_type": "code",
   "execution_count": null,
   "metadata": {},
   "outputs": [],
   "source": [
    "a = input('a = ')\n",
    "b = input('b = ')\n",
    "print(\"Avant, a = \",a,\" et b = \",b)\n",
    "pass\n",
    "print(\"Après, a = \",a,\" et b = \",b)"
   ]
  },
  {
   "cell_type": "markdown",
   "metadata": {},
   "source": [
    "##### Exercice 4 Conversion "
   ]
  },
  {
   "cell_type": "markdown",
   "metadata": {},
   "source": [
    "Ecrire un programme qui lit une durée en seconde puis retourne celle-ci sous la forme jours/heures/minutes/secondes. \n",
    "\n",
    "Indication : utiliser les opérateurs `//` et `%` qui calculent respectivement le quotient entier et le reste entier de deux entiers. \n"
   ]
  },
  {
   "cell_type": "code",
   "execution_count": null,
   "metadata": {},
   "outputs": [],
   "source": []
  }
 ],
 "metadata": {
  "kernelspec": {
   "display_name": "Python 3",
   "language": "python",
   "name": "python3"
  },
  "language_info": {
   "codemirror_mode": {
    "name": "ipython",
    "version": 3
   },
   "file_extension": ".py",
   "mimetype": "text/x-python",
   "name": "python",
   "nbconvert_exporter": "python",
   "pygments_lexer": "ipython3",
   "version": "3.7.3"
  }
 },
 "nbformat": 4,
 "nbformat_minor": 2
}
