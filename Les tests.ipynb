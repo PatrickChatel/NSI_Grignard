{
 "cells": [
  {
   "cell_type": "markdown",
   "metadata": {},
   "source": [
    "# Les tests"
   ]
  },
  {
   "cell_type": "markdown",
   "metadata": {},
   "source": [
    "## L'intérêt des tests"
   ]
  },
  {
   "cell_type": "markdown",
   "metadata": {},
   "source": [
    "Les tests permettent de différencier le traitement à effectuer selon une certaine condition."
   ]
  },
  {
   "cell_type": "markdown",
   "metadata": {},
   "source": [
    "Par exemple, afin de mettre en place un système de caisses automatiques, le directeur du cinéma 'CGR' vous demande de coder un programme demandant au client son âge, et lui annonçant en retour le tarif appliqué :\n",
    "* moins de 18 ans : 6€.\n",
    "* sinon : 9€.\n",
    "\n",
    "Algorithme en langage naturel :"
   ]
  },
  {
   "cell_type": "markdown",
   "metadata": {},
   "source": [
    "``` \n",
    "Lire(age)\n",
    "Si age < 18 :\n",
    "    tarif ← 4\n",
    "Sinon :\n",
    "    tarif ← 7\n",
    "Afficher(tarif)```"
   ]
  },
  {
   "cell_type": "markdown",
   "metadata": {},
   "source": [
    "Programme en python :"
   ]
  },
  {
   "cell_type": "code",
   "execution_count": 1,
   "metadata": {},
   "outputs": [
    {
     "name": "stdout",
     "output_type": "stream",
     "text": [
      "Votre age : 12\n",
      "Pour vous, ça sera 4 €.\n"
     ]
    }
   ],
   "source": [
    "age = int(input('Votre age : '))\n",
    "if (age < 18): # le test \n",
    "    tarif = 4 # traitement si le test est vrai\n",
    "else:\n",
    "    tarif  = True # traitement si le test est faux\n",
    "print('Pour vous, ça sera',tarif,'€.')"
   ]
  },
  {
   "cell_type": "markdown",
   "metadata": {},
   "source": [
    "### Les différentes possibilités en python"
   ]
  },
  {
   "cell_type": "markdown",
   "metadata": {},
   "source": [
    "#### Traitement que si une condition est vraie\n",
    "```python\n",
    "if condition: \n",
    "    traitement_vrai # cette partie du code doit être indentée\n",
    "```"
   ]
  },
  {
   "cell_type": "code",
   "execution_count": null,
   "metadata": {},
   "outputs": [],
   "source": [
    "note = int(input('note ? '))\n",
    "resultat = 'reçu'\n",
    "if (note < 10):\n",
    "    resultat = 'recalé'\n",
    "print(resultat)"
   ]
  },
  {
   "cell_type": "markdown",
   "metadata": {},
   "source": [
    "#### Traitement différencié selon qu'une condition soit vraie ou fausse\n",
    "```python\n",
    "if condition:\n",
    "    traitement_vrai\n",
    "else :\n",
    "    traitement_faux```"
   ]
  },
  {
   "cell_type": "code",
   "execution_count": null,
   "metadata": {},
   "outputs": [],
   "source": [
    "note = int(input('note ? '))\n",
    "if (note < 10):\n",
    "    resultat = 'recalé'\n",
    "else :\n",
    "    résultat = 'reçu'\n",
    "print(resulat)"
   ]
  },
  {
   "cell_type": "markdown",
   "metadata": {},
   "source": [
    "#### Traitement différencié selon plusieurs conditions\n",
    "```python\n",
    "if condition1:\n",
    "    traitement_vrai1\n",
    "elif condition2 : # il peut y avoir plus qu'un `elif`\n",
    "    traitement vrai2\n",
    "else :\n",
    "    traitement_faux```"
   ]
  },
  {
   "cell_type": "code",
   "execution_count": null,
   "metadata": {},
   "outputs": [],
   "source": [
    "note = int(input('note ? '))\n",
    "if (note < 10):\n",
    "    resultat = 'recalé'\n",
    "elif resultat >= 16 :\n",
    "    résultat = 'reçu brillament'\n",
    "else :\n",
    "    resultat = 'reçu'\n",
    "print(resulat)"
   ]
  },
  {
   "cell_type": "markdown",
   "metadata": {},
   "source": [
    "## Comment écrire une condition"
   ]
  },
  {
   "cell_type": "markdown",
   "metadata": {},
   "source": [
    "### Opérateurs de comparaison"
   ]
  },
  {
   "cell_type": "markdown",
   "metadata": {},
   "source": [
    "La condition testée peut contenir les opérateurs de comparaison suivants :\n",
    "\n",
    "*  `x == y`  : x est égal à y ?\n",
    "*  `x != y`  : x est différent de y ?\n",
    "*  `x > y`  : x est plus grand que y ?\n",
    "*  `x < y`  : x est plus petit que y ?\n",
    "*  `x >= y`  : x est plus grand ou égal à y ?\n",
    "*  `x <= y`  : x est plus petit ou égal à y ?\n",
    "\n",
    "\n",
    "Attention : il ne faut pas confondre :\n",
    "* l'opérateur de __comparaison__ pour tester l'égalité de deux valeurs : `==`.\n",
    "* l'opérateur d'__affectation__ utilisé pour affecter une valeur à une variable : `=`."
   ]
  },
  {
   "cell_type": "markdown",
   "metadata": {},
   "source": [
    "### Opérateurs booléens"
   ]
  },
  {
   "cell_type": "markdown",
   "metadata": {},
   "source": [
    "La condition testée peut être formée à partir de d'autres condition grêce aux opérateurs booléens suivants :\n",
    "* `not` condition : vrai si condition est faux\n",
    "* condition1 `and` conditions2 : vrai si les 2 conditions sont vraies \n",
    "* condition1 `or` conditions2 :  vrai si au moins une des 2 conditions est vraie"
   ]
  },
  {
   "cell_type": "code",
   "execution_count": null,
   "metadata": {},
   "outputs": [],
   "source": [
    "ecrit,oral = 12, 7\n",
    "if (ecrit >= 10) and (oral >= 10) :\n",
    "    print('Vous avez réussi vos deux épreuves.')\n",
    "elif (ecrit >= 10) or (oral >= 10) :\n",
    "    print('Vous n\\'avez qu\\'une des deux épreuves.')\n",
    "else:\n",
    "    print('Vous avez raté vles deux épreuves.')"
   ]
  },
  {
   "cell_type": "markdown",
   "metadata": {},
   "source": [
    "## Les exercices"
   ]
  },
  {
   "cell_type": "markdown",
   "metadata": {},
   "source": [
    "##### Exercice 1  Photocopies"
   ]
  },
  {
   "cell_type": "markdown",
   "metadata": {},
   "source": [
    "Un magasin de reprographie facture 0,10 € les dix premières photocopies, 0,09 € les vingt suivantes et 0,08 € au-delà. \n",
    "\n",
    "Ecrivez un programme qui demande à l’utilisateur le nombre de photocopies effectuées et qui affiche la facture correspondante."
   ]
  },
  {
   "cell_type": "code",
   "execution_count": null,
   "metadata": {},
   "outputs": [],
   "source": []
  },
  {
   "cell_type": "markdown",
   "metadata": {},
   "source": [
    "##### Exercice 2  Somme de deux durées"
   ]
  },
  {
   "cell_type": "markdown",
   "metadata": {},
   "source": [
    "Une durée est composée de trois entiers représentant les heures, les minutes et les secondes.\n",
    "\n",
    "Ecrire un programme qui lit deux durées puis calcule et enfin affiche leur somme."
   ]
  },
  {
   "cell_type": "code",
   "execution_count": null,
   "metadata": {},
   "outputs": [],
   "source": []
  },
  {
   "cell_type": "markdown",
   "metadata": {},
   "source": [
    "##### Exercice 3  Avancer d'une seconde"
   ]
  },
  {
   "cell_type": "markdown",
   "metadata": {},
   "source": [
    "Ecrire un programme qui lit une heure sous la forme hh-mm-ss puis calcule et enfin affiche l'heure une seconde plus tard."
   ]
  },
  {
   "cell_type": "code",
   "execution_count": null,
   "metadata": {},
   "outputs": [],
   "source": []
  },
  {
   "cell_type": "markdown",
   "metadata": {},
   "source": [
    "##### Exercice 4 Impôts"
   ]
  },
  {
   "cell_type": "markdown",
   "metadata": {},
   "source": [
    "Les habitants de Zorglub paient l’impôt selon les règles suivantes :\n",
    "* les hommes de plus de 20 ans paient l’impôt\n",
    "* les femmes paient l’impôt si elles ont entre 18 et 35 ans\n",
    "* les autres ne paient pas d’impôt\n",
    "Le programme demandera donc l’âge et le sexe du Zorglubien, et se prononcera donc ensuite sur le fait que l’habitant est imposable.\n"
   ]
  },
  {
   "cell_type": "code",
   "execution_count": null,
   "metadata": {},
   "outputs": [],
   "source": []
  },
  {
   "cell_type": "markdown",
   "metadata": {},
   "source": [
    "##### Exercice 5 Assurance"
   ]
  },
  {
   "cell_type": "markdown",
   "metadata": {},
   "source": [
    "Une compagnie d'assurance automobile propose à ses clients quatre familles de tarifs identifiables par une couleur, du moins au plus onéreux : tarifs bleu, vert, orange et rouge. Le tarif dépend de la situation du conducteur :\n",
    "* un conducteur de moins de 25 ans et titulaire du permis depuis moins de deux ans, se voit attribuer le tarif rouge, si toutefois il n'a jamais été responsable d'accident. Sinon, la compagnie refuse de l'assurer.\n",
    "* un conducteur de moins de 25 ans et titulaire du permis depuis plus de deux ans, ou de plus de 25 ans mais titulaire du permis depuis moins de deux ans a le droit au tarif orange s'il n'a jamais provoqué d'accident, au tarif rouge pour un accident, sinon il est refusé.\n",
    "* un conducteur de plus de 25 ans titulaire du permis depuis plus de deux ans bénéficie du tarif vert s'il n'est à l'origine d'aucun accident et du tarif orange pour un accident, du tarif rouge pour deux accidents, et refusé au-delà\n",
    "\n",
    "De plus, pour encourager la fidélité des clients acceptés, la compagnie propose un contrat de la couleur immédiatement la plus avantageuse s'il est entré dans la maison depuis plus de cinq ans. Ainsi, s'il satisfait à cette exigence, un client normalement \"vert\" devient \"bleu\", un client normalement \"orange\" devient \"vert\", et le \"rouge\" devient orange.\n",
    "\n",
    "Ecrire un programme permettant de saisir les données nécessaires (sans contrôle de saisie) et de traiter ce problème. \n",
    "\n",
    "Avant de se lancer à corps perdu dans cet exercice, on pourra réfléchir un peu et s'apercevoir qu'il est plus simple qu'il n'en a l'air (cela s'appelle faire une analyse !)\n"
   ]
  },
  {
   "cell_type": "code",
   "execution_count": null,
   "metadata": {},
   "outputs": [],
   "source": []
  }
 ],
 "metadata": {
  "kernelspec": {
   "display_name": "Python 3",
   "language": "python",
   "name": "python3"
  },
  "language_info": {
   "codemirror_mode": {
    "name": "ipython",
    "version": 3
   },
   "file_extension": ".py",
   "mimetype": "text/x-python",
   "name": "python",
   "nbconvert_exporter": "python",
   "pygments_lexer": "ipython3",
   "version": "3.7.3"
  }
 },
 "nbformat": 4,
 "nbformat_minor": 2
}
