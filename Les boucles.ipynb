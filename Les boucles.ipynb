{
 "cells": [
  {
   "cell_type": "markdown",
   "metadata": {},
   "source": [
    "# Les boucles"
   ]
  },
  {
   "cell_type": "markdown",
   "metadata": {},
   "source": [
    "## L'intérêt des boucles"
   ]
  },
  {
   "cell_type": "markdown",
   "metadata": {},
   "source": [
    "Les boucles permettent de répéter un traitement plusieurs fois."
   ]
  },
  {
   "cell_type": "markdown",
   "metadata": {},
   "source": [
    "## Les boucles conditionnelles"
   ]
  },
  {
   "cell_type": "markdown",
   "metadata": {},
   "source": [
    "Les boucles conditionnelles permettent de répéter un traitement tant qu'une certaine condition est vérifiée."
   ]
  },
  {
   "cell_type": "markdown",
   "metadata": {},
   "source": [
    "Par exemple, on vous demande de saisir un nombre positif.\n",
    "\n",
    "Algorithme en langage naturel :"
   ]
  },
  {
   "cell_type": "markdown",
   "metadata": {},
   "source": [
    "```\n",
    "Lire(nombre)\n",
    "Tant que nombre < 0 :\n",
    "    Lire(nombre)\n",
    "Afficher(nombre)```"
   ]
  },
  {
   "cell_type": "markdown",
   "metadata": {},
   "source": [
    "Programme en python :"
   ]
  },
  {
   "cell_type": "code",
   "execution_count": 24,
   "metadata": {},
   "outputs": [
    {
     "name": "stdout",
     "output_type": "stream",
     "text": [
      "Nombre positif  12\n",
      "Nombre  12.0\n"
     ]
    }
   ],
   "source": [
    "nombre = float(input('Nombre positif  '))\n",
    "while (nombre < 0): # le test\n",
    "    print(nombre,'est négatif !')\n",
    "    nombre = float(input('Nombre positif : ')) # traitement qui est répété autant de fois que nécessaire\n",
    "print('Nombre ',nombre)"
   ]
  },
  {
   "cell_type": "markdown",
   "metadata": {},
   "source": [
    "Il faut bien sûr que la condition passe à faux à un moment sinon la boucle s'éxécute indéfiniment ... Nous reviendrons sur ce problème (terminaison d'un programme) plus tard."
   ]
  },
  {
   "cell_type": "markdown",
   "metadata": {},
   "source": [
    "## Les boucles inconditionnelles"
   ]
  },
  {
   "cell_type": "markdown",
   "metadata": {},
   "source": [
    "Les boucles inconditionnelles permettent de répéter un traitement un certain nombre de fois déterminer à l'avance."
   ]
  },
  {
   "cell_type": "markdown",
   "metadata": {},
   "source": [
    "Par exemple, on vous demande de dresser la table de 3.\n",
    "\n",
    "Algorithme en langage naturel :"
   ]
  },
  {
   "cell_type": "markdown",
   "metadata": {},
   "source": [
    "```\n",
    "Pour i = 0 à 9 faire :\n",
    "    produit = i*3\n",
    "    Afficher(i,'*3=',produit)'\n",
    "```"
   ]
  },
  {
   "cell_type": "code",
   "execution_count": 25,
   "metadata": {},
   "outputs": [
    {
     "name": "stdout",
     "output_type": "stream",
     "text": [
      "Table de 3 :\n",
      "0 * 3 =  0\n",
      "1 * 3 =  3\n",
      "2 * 3 =  6\n",
      "3 * 3 =  9\n",
      "4 * 3 =  12\n",
      "5 * 3 =  15\n",
      "6 * 3 =  18\n",
      "7 * 3 =  21\n",
      "8 * 3 =  24\n",
      "9 * 3 =  27\n"
     ]
    }
   ],
   "source": [
    "print('Table de 3 :')\n",
    "for fois in range(0,10):\n",
    "    produit = fois*3\n",
    "    print(fois,'* 3 = ',produit)"
   ]
  },
  {
   "cell_type": "markdown",
   "metadata": {},
   "source": [
    "L'instruction `range` génére grosso-modo une liste d'entiers (il faut convertir son résultat avec l'instruction `list`pour avoir une vraie liste). Plus précisément :\n",
    "* `range(a,b,c)`: génére les entiers de a à __b-1__ avec un pas de c (*c* pouvant être négatif)\n",
    "* `range(a,b)`: génère les entiers de a à __b-1__ avec un pas de 1\n",
    "* `range(b)` : génère les entiers de 0 à __b-1__"
   ]
  },
  {
   "cell_type": "code",
   "execution_count": 26,
   "metadata": {},
   "outputs": [
    {
     "name": "stdout",
     "output_type": "stream",
     "text": [
      "[4, 6, 8]\n",
      "[4, 3, 2, 1, 0]\n",
      "[3, 4, 5, 6, 7, 8, 9]\n",
      "[0, 1, 2, 3, 4, 5, 6, 7, 8, 9]\n"
     ]
    }
   ],
   "source": [
    "print(list(range(4,10,2)))\n",
    "print(list(range(4,-1,-1)))\n",
    "print(list(range(3,10)))\n",
    "print(list(range(10)))"
   ]
  },
  {
   "cell_type": "markdown",
   "metadata": {},
   "source": [
    "Une boucle inconditionnelle peut toujours être simulée à l'aide d'une boucle conditionnelle."
   ]
  },
  {
   "cell_type": "code",
   "execution_count": 27,
   "metadata": {},
   "outputs": [
    {
     "name": "stdout",
     "output_type": "stream",
     "text": [
      "Table de 3 :\n",
      "0 * 3 = 0\n",
      "1 * 3 = 3\n",
      "2 * 3 = 6\n",
      "3 * 3 = 9\n",
      "4 * 3 = 12\n",
      "5 * 3 = 15\n",
      "6 * 3 = 18\n",
      "7 * 3 = 21\n",
      "8 * 3 = 24\n",
      "9 * 3 = 27\n"
     ]
    }
   ],
   "source": [
    "print('Table de 3 :')\n",
    "fois = 0\n",
    "while fois <= 9:\n",
    "    produit = fois*3\n",
    "    print(fois,'* 3 =',produit)\n",
    "    fois = fois+1"
   ]
  },
  {
   "cell_type": "markdown",
   "metadata": {},
   "source": [
    "## Les exercices"
   ]
  },
  {
   "cell_type": "markdown",
   "metadata": {},
   "source": [
    "##### Exercice 1  Saisie avec contrôle"
   ]
  },
  {
   "cell_type": "markdown",
   "metadata": {},
   "source": [
    "Ecrire un programme qui demande à l’utilisateur un nombre compris entre 0 et 20 jusqu’à ce que la réponse convienne."
   ]
  },
  {
   "cell_type": "code",
   "execution_count": null,
   "metadata": {},
   "outputs": [],
   "source": []
  },
  {
   "cell_type": "markdown",
   "metadata": {},
   "source": [
    "##### Exercice 2  Sommes d'entiers consécutifs"
   ]
  },
  {
   "cell_type": "markdown",
   "metadata": {},
   "source": [
    "Ecrire un programme qui demande deux nombres entiers, et qui calcule la somme des entiers compris entre ces deux nombres.\n",
    ". \n",
    "\n",
    "Par exemple, si l’on entre 5 et 12 le programme doit calculer :$ 5 + 6 + 7 + 8 + 9 + 10 + 11 + 12$.\n",
    "\n",
    "proposer deux versions : une avec une boucle `while` et une avec une boucle`for`."
   ]
  },
  {
   "cell_type": "code",
   "execution_count": null,
   "metadata": {},
   "outputs": [],
   "source": []
  },
  {
   "cell_type": "markdown",
   "metadata": {},
   "source": [
    "##### Exercice 3  Statistique"
   ]
  },
  {
   "cell_type": "markdown",
   "metadata": {},
   "source": [
    "Ecrire un programme qui saisit une suite de nombre puis affiche leur effectif, leur moyenne et enfin leur minimum et maximum."
   ]
  },
  {
   "cell_type": "code",
   "execution_count": null,
   "metadata": {},
   "outputs": [],
   "source": []
  },
  {
   "cell_type": "markdown",
   "metadata": {},
   "source": [
    "##### Exercice 4 Rectangle"
   ]
  },
  {
   "cell_type": "markdown",
   "metadata": {},
   "source": [
    "Ecrire un programme qui affiche le motif suivant (la largeur et la hauteur seront paramétrables) :\n",
    "\n",
    "..................<br>\n",
    "..................<br>\n",
    "..................<br>\n",
    "..................\n"
   ]
  },
  {
   "cell_type": "code",
   "execution_count": null,
   "metadata": {},
   "outputs": [],
   "source": []
  },
  {
   "cell_type": "markdown",
   "metadata": {},
   "source": [
    "##### Exercice 5 Triangle"
   ]
  },
  {
   "cell_type": "markdown",
   "metadata": {},
   "source": [
    "Ecrire un programme qui affiche le motif suivant (la largeur et la hauteur seront paramétrables) :\n",
    "\n",
    ".....<br>\n",
    "....<br>\n",
    "...<br>\n",
    "..<br>\n",
    ".<br>"
   ]
  },
  {
   "cell_type": "code",
   "execution_count": null,
   "metadata": {},
   "outputs": [],
   "source": []
  },
  {
   "cell_type": "markdown",
   "metadata": {},
   "source": [
    "##### Exercice 6 Placement"
   ]
  },
  {
   "cell_type": "markdown",
   "metadata": {},
   "source": [
    "Mr Grippe-sou a placé à sa banque au premier janvier 2019 la somme de 3200 €, à intérêts composés, au taux de 1.15%."
   ]
  },
  {
   "cell_type": "markdown",
   "metadata": {},
   "source": [
    "Écrire un premier programme qui lui indique son capital selon la durée de son placement."
   ]
  },
  {
   "cell_type": "code",
   "execution_count": null,
   "metadata": {},
   "outputs": [],
   "source": []
  },
  {
   "cell_type": "markdown",
   "metadata": {},
   "source": [
    "Écrire un second programme qui lui indique la durée (en années) de son placement pour que son capital atteigne une certaine somme."
   ]
  },
  {
   "cell_type": "code",
   "execution_count": null,
   "metadata": {},
   "outputs": [],
   "source": []
  },
  {
   "cell_type": "markdown",
   "metadata": {},
   "source": [
    "##### Exercice 7 Le nombre mystère"
   ]
  },
  {
   "cell_type": "markdown",
   "metadata": {},
   "source": [
    "On souhaite coder le jeu incontournable lorsque l’on apprend à programmer : l’ordinateur choisit un\n",
    "nombre au hasard, l’utilisateur doit alors deviner ce nombre en suivant des indications « plus grand » ou\n",
    "« plus petit » données par l’ordinateur.\n",
    "\n",
    "La version de base\n",
    "* L’ordinateur choisit au hasard un nombre *mystère* entre 0 et 99;\n",
    "* Le joueur propose une réponse;\n",
    "* L’ordinateur répond selon le cas « le nombre à trouver est plus grand » ou « le nombre à trouver est plus petit » ou « bravo, c’est le bon nombre! »;\n",
    "* Le joueur a au plus sept tentatives pour trouver la bonne réponse.\n",
    "\n",
    "<ol>\n",
    "<li> Programmez ce jeu !</li>\n",
    "<li> Une première amélioration : <br>\n",
    "L’ordinateur répond « proposition stupide » quand la proposition du joueur n’est pas pertinente.<br>\n",
    "Indication : il faut utiliser deux nouvelles variables qu’on nommera *mini* et*maxi*. </li>\n",
    "\n",
    "<li> Une deuxième amélioration : Le nombre d’essais n’est pas nécessairement 7.\n",
    "\n",
    "Indication : il faut définir deux nouvelles variables qu’on nommera *nb_essais* et *num_essai*.</li>\n",
    "<li> Une dernière amélioration : Plus difficile encore, le nombre d’essais autorisés est calculé par l’ordinateur.\n",
    "</ol>"
   ]
  },
  {
   "cell_type": "code",
   "execution_count": null,
   "metadata": {},
   "outputs": [],
   "source": []
  },
  {
   "cell_type": "code",
   "execution_count": null,
   "metadata": {},
   "outputs": [],
   "source": []
  }
 ],
 "metadata": {
  "kernelspec": {
   "display_name": "Python 3",
   "language": "python",
   "name": "python3"
  },
  "language_info": {
   "codemirror_mode": {
    "name": "ipython",
    "version": 3
   },
   "file_extension": ".py",
   "mimetype": "text/x-python",
   "name": "python",
   "nbconvert_exporter": "python",
   "pygments_lexer": "ipython3",
   "version": "3.7.3"
  }
 },
 "nbformat": 4,
 "nbformat_minor": 2
}
