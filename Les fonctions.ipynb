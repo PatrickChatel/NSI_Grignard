{
 "cells": [
  {
   "cell_type": "markdown",
   "metadata": {},
   "source": [
    "# Les fonctions "
   ]
  },
  {
   "cell_type": "markdown",
   "metadata": {},
   "source": [
    "## L'intérêt des fonctions"
   ]
  },
  {
   "cell_type": "markdown",
   "metadata": {},
   "source": [
    "Les fonctions offrent de nombreux avantages notamment la programmation modulaire, c'est-à-dire de découper un programme en sous-programmes."
   ]
  },
  {
   "cell_type": "markdown",
   "metadata": {},
   "source": [
    "Par exemple, pour réaliser un jeu tel que *Puissance 4*, on aura intérêt à décomposer le problème en sous-problèmes (poser un pion, vérifier s'il y a un alignement, afficher la grille, etc.) ce qui rendra sa résolution plus simple et modulable."
   ]
  },
  {
   "cell_type": "markdown",
   "metadata": {},
   "source": [
    "## Un exemple"
   ]
  },
  {
   "cell_type": "markdown",
   "metadata": {},
   "source": [
    "On cherche à définir une fonction dont le but est de déterminer le double d'un nombre."
   ]
  },
  {
   "cell_type": "markdown",
   "metadata": {},
   "source": [
    "### La définir"
   ]
  },
  {
   "cell_type": "markdown",
   "metadata": {},
   "source": [
    "Voici comment en Python on peut écrire cette fonction que nous appelerons <i>double</i>."
   ]
  },
  {
   "cell_type": "code",
   "execution_count": 40,
   "metadata": {},
   "outputs": [],
   "source": [
    "def double(n):\n",
    "    \"\"\"Cette fonction renvoie le double de son argument\n",
    "       Entrée(s) : n : nombre\n",
    "       Sortie : le double de n \"\"\"\n",
    "    return 2*n"
   ]
  },
  {
   "cell_type": "markdown",
   "metadata": {},
   "source": [
    "Analyse du code de cette fonction nous pouvons distinguer deux parties :\n",
    "* la première ligne commençant par le mot-clé `def` qu’on appelle l'__en-tête__,\n",
    "* une chaîne de caractère appelée chaine de documentation ou <i>docstring </i> qui indique le rôle et les conditions d'utilisation de la fonction,\n",
    "* tout le reste (qui est indenté) qu’on appelle le __corps__."
   ]
  },
  {
   "cell_type": "markdown",
   "metadata": {},
   "source": [
    "Description de l’en-tête d’une  :\n",
    "* Il débute toujours par le mot-clé `def`.\n",
    "* Ce mot est suivi du nom que l’on donne à la fonction (ici <i>estPair</i>), ce nom suivant les mêmes règles que les identificateurs de variables.\n",
    "* Vient ensuite le nom d’un __paramètre formel__ (ici <i>n</i>); ce paramètre sert à désigner la valeur qui sera fournie à la fonction lorsque nous l’utiliserons. Dans le cas présent, le paramètre <i>n</i> sert à désigner n’importe quel nombre entier.\n",
    "* Enfin l’en-tête se termine par un `:`  qui marque le début d’un bloc d’instructions qui suit et que l’on nomme corps de la fonction.\n"
   ]
  },
  {
   "cell_type": "markdown",
   "metadata": {},
   "source": [
    "Description du corps de la fonction (qui se résume dans notre exemple à une seule ligne) :\n",
    "* Cette ligne débute par le mot-clé `return`; ce mot signale ce que la fonction doit fournir comme résultat, ou dit autrement quelle est la valeur qu’elle doit renvoyer.\n",
    "* Après le mot `return` vient l’expression qui décrit la valeur que doit renvoyer la fonction. Ici cette expression est `2*n` qui correspond bien au double de <i>n</i>. L’identificateur <i>n </i>  qui figure dans cette expression correspond au paramètre de la fonction. Lorsque cette fonction sera utilisée avec une valeur numérique, cette valeur viendra prendre la place de <i> n </i>."
   ]
  },
  {
   "cell_type": "code",
   "execution_count": 41,
   "metadata": {},
   "outputs": [],
   "source": [
    "def double(x):\n",
    "    return 2*x"
   ]
  },
  {
   "cell_type": "markdown",
   "metadata": {},
   "source": [
    "### L'utiliser"
   ]
  },
  {
   "cell_type": "markdown",
   "metadata": {},
   "source": [
    "Lorsqu’une fonction a été définie, on peut l’utiliser. On dit qu’on fait __appel__ à la fonction en lui transmettant une valeur en argument.\n",
    "\n",
    "Voici quelques exemples d’appels à cette fonction :"
   ]
  },
  {
   "cell_type": "code",
   "execution_count": null,
   "metadata": {},
   "outputs": [],
   "source": [
    "nbre = int(input('Nombre ? '))\n",
    "print(nbre,\"a pour double\",double(nbre))"
   ]
  },
  {
   "cell_type": "markdown",
   "metadata": {},
   "source": [
    "Description de l'appel :\n",
    "\n",
    "Lorsque la fonction est appelée avec un __paramétre effectif__ (une valeur comme içi ou une expression), les instructions du corps de la fonction sont exécutées, le paramétre formel (<i> n </i> içi) prenant la valeur du paramétre effectif (<i> nbre</i> içi)."
   ]
  },
  {
   "cell_type": "markdown",
   "metadata": {},
   "source": [
    "## Fonction ou Procédure"
   ]
  },
  {
   "cell_type": "markdown",
   "metadata": {},
   "source": [
    "En fait, il y a deux types de sous-programmes : \n",
    "* ceux qui calcule et renvoie (grâce à l'instruction `return`) un résultat; on parle alors de __fonction__,\n",
    "* ceux qui font quelque chose mais ne renvoie rien : on parle alors de __procédure__."
   ]
  },
  {
   "cell_type": "code",
   "execution_count": null,
   "metadata": {},
   "outputs": [],
   "source": [
    "# fonction qui renvoie le double d'un nombre\n",
    "def double(n):\n",
    "    return 2*n\n",
    "print(double(5))"
   ]
  },
  {
   "cell_type": "code",
   "execution_count": null,
   "metadata": {},
   "outputs": [],
   "source": [
    "# procédure qui affiche le double d'un nombre\n",
    "def double(n):\n",
    "    print(2*n)\n",
    "double(5)"
   ]
  },
  {
   "cell_type": "markdown",
   "metadata": {},
   "source": [
    "Lorsqu’on a à programmer un sous-programme, il faut donc bien réfléchir à l’usage qu’on en fera. \n",
    "\n",
    "Quand celui-ci doit calculer une valeur, on priviligiera son écriture sous forme d'une fonction qui offre plus de souplesse (on peut ne pas vouloir afficher ce résultat ou vouloir le passer en paramétre à une autre fonction par exemple)."
   ]
  },
  {
   "cell_type": "markdown",
   "metadata": {},
   "source": [
    "## Variables locales - Variables globales"
   ]
  },
  {
   "cell_type": "code",
   "execution_count": null,
   "metadata": {},
   "outputs": [],
   "source": []
  },
  {
   "cell_type": "markdown",
   "metadata": {},
   "source": [
    "## Les exercices"
   ]
  },
  {
   "cell_type": "markdown",
   "metadata": {},
   "source": [
    "##### Exercice 1  Conversion température"
   ]
  },
  {
   "cell_type": "markdown",
   "metadata": {},
   "source": [
    "Ecrire une fonction *fahrenheit*qui permet de convertir en degrés fahrenheit une température donné en degrés celcius grâce à la formule $F = 1.8 \\times C + 32$."
   ]
  },
  {
   "cell_type": "code",
   "execution_count": null,
   "metadata": {},
   "outputs": [],
   "source": []
  },
  {
   "cell_type": "code",
   "execution_count": null,
   "metadata": {},
   "outputs": [],
   "source": [
    "# Test\n",
    "tc = 20\n",
    "tf = fahrenheit(tc)\n",
    "assert tf == 68,'il y a un problème ...'"
   ]
  },
  {
   "cell_type": "markdown",
   "metadata": {},
   "source": [
    "##### Exercice 2 Parité"
   ]
  },
  {
   "cell_type": "markdown",
   "metadata": {},
   "source": [
    "Ecrire une fonction *estPair* qui permet indique si un nombre est pair ou pas."
   ]
  },
  {
   "cell_type": "code",
   "execution_count": null,
   "metadata": {},
   "outputs": [],
   "source": []
  },
  {
   "cell_type": "code",
   "execution_count": null,
   "metadata": {},
   "outputs": [],
   "source": [
    "# Test\n",
    "assert not estPair(2019) and estPair(2020),'il y a un problème ...'"
   ]
  },
  {
   "cell_type": "markdown",
   "metadata": {},
   "source": [
    "##### Exercice 3  IMC"
   ]
  },
  {
   "cell_type": "markdown",
   "metadata": {},
   "source": [
    "L'indice de masse corporelle (IMC, en anglais Body Mass Index, BMI) est une grandeur qui permet d’estimer la corpulence d’une personne.\n",
    "\n",
    "La formule pour le calculer est la suivante : IMC $= masse⁄{taille^2}$\n",
    "\n",
    "Par exemple, pour une personne de 65 kg pour 1,70 m : IMC = $65⁄{1,70^2} ≈ 22.5$.\n",
    "\n",
    "L'interprétation de l'IMC est la suivante : \n",
    "* moins de 18,5 : Maigreur\n",
    "* entre 18,5 à 25 : Corpulence normale\n",
    "* plus de 25 : Surpoids\n",
    "\n",
    "Ecrire un programme qui :\n",
    "* définit une fonction *calcul_IMC*, qui calcule l'IMC en fonction du poids et de la taille,\n",
    "* definit une procédure *analyse_IMC*, \n",
    "* saisit les caractéristiques d'une personne, affiche son IMC et lui fournit un diagnostic."
   ]
  },
  {
   "cell_type": "code",
   "execution_count": null,
   "metadata": {},
   "outputs": [],
   "source": []
  },
  {
   "cell_type": "markdown",
   "metadata": {},
   "source": [
    "##### Exercice 4"
   ]
  },
  {
   "cell_type": "markdown",
   "metadata": {},
   "source": []
  },
  {
   "cell_type": "code",
   "execution_count": null,
   "metadata": {},
   "outputs": [],
   "source": []
  },
  {
   "cell_type": "markdown",
   "metadata": {},
   "source": [
    "##### Exercice 5 "
   ]
  },
  {
   "cell_type": "markdown",
   "metadata": {},
   "source": [
    "\n"
   ]
  },
  {
   "cell_type": "code",
   "execution_count": null,
   "metadata": {},
   "outputs": [],
   "source": []
  },
  {
   "cell_type": "markdown",
   "metadata": {},
   "source": [
    "##### Exercice 6 "
   ]
  },
  {
   "cell_type": "markdown",
   "metadata": {},
   "source": []
  },
  {
   "cell_type": "code",
   "execution_count": null,
   "metadata": {},
   "outputs": [],
   "source": []
  },
  {
   "cell_type": "markdown",
   "metadata": {},
   "source": [
    "##### Exercice 7"
   ]
  },
  {
   "cell_type": "markdown",
   "metadata": {},
   "source": []
  },
  {
   "cell_type": "code",
   "execution_count": null,
   "metadata": {},
   "outputs": [],
   "source": []
  },
  {
   "cell_type": "code",
   "execution_count": null,
   "metadata": {},
   "outputs": [],
   "source": []
  }
 ],
 "metadata": {
  "kernelspec": {
   "display_name": "Python 3",
   "language": "python",
   "name": "python3"
  },
  "language_info": {
   "codemirror_mode": {
    "name": "ipython",
    "version": 3
   },
   "file_extension": ".py",
   "mimetype": "text/x-python",
   "name": "python",
   "nbconvert_exporter": "python",
   "pygments_lexer": "ipython3",
   "version": "3.7.3"
  }
 },
 "nbformat": 4,
 "nbformat_minor": 2
}
