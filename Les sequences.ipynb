{
 "cells": [
  {
   "cell_type": "markdown",
   "metadata": {},
   "source": [
    "## Qu'est-ce qu'une séquence ?\n",
    "\n"
   ]
  },
  {
   "cell_type": "markdown",
   "metadata": {},
   "source": [
    "<li>Une <em>séquence</em> est une suite finie de valeurs numérotées (distinctes ou pas, de n'importe quel type). \n",
    "Par exemple, les éléments des types <em>range</em> et <em>str</em> sont des séquences (toutes deux non <em>mutables</em>).</li>\n",
    "<li>La fonction <em>quotient_reste</em> ci-dessous  retourne un couple de nombres :</li>"
   ]
  },
  {
   "cell_type": "code",
   "execution_count": 6,
   "metadata": {},
   "outputs": [
    {
     "data": {
      "text/plain": [
       "(3, 3)"
      ]
     },
     "execution_count": 6,
     "metadata": {},
     "output_type": "execute_result"
    }
   ],
   "source": [
    "def quotient_reste(a,b):\n",
    "    return (a//b,a%b)\n",
    "quotient_reste (15,4)"
   ]
  },
  {
   "cell_type": "markdown",
   "metadata": {},
   "source": [
    "<li>Un tel couple est un cas particulier de tuple (couple, triplet, etc).\n",
    "Les tuples sont pratiques pour les fonctions à plusieurs résultats.</li>\n",
    "<li>Les listes sont plus souples que les tuples pour stocker et modifier un grand nombre d'objets. \n",
    "Contrairement aux tuples, elles sont <em>mutables</em>.</li>"
   ]
  },
  {
   "cell_type": "code",
   "execution_count": null,
   "metadata": {},
   "outputs": [],
   "source": [
    "• Un tel couple est un cas particulier de tuple (couple, triplet, etc).\n",
    "Les tuples sont pratiques pour les fonctions à plusieurs résultats.\n",
    "• Les listes sont plus souples que les tuples pour stocker et modifier un grand nombre d'objets. Contrairement aux tuples, elles sont mutables.\n",
    "'Hello !' (2,-1,'red',3.5) [2,-1,'red',3.5]\n",
    "((20,5),(10,0),(-1,7)) [[2,-3],[1,5]]"
   ]
  }
 ],
 "metadata": {
  "kernelspec": {
   "display_name": "Python 3",
   "language": "python",
   "name": "python3"
  },
  "language_info": {
   "codemirror_mode": {
    "name": "ipython",
    "version": 3
   },
   "file_extension": ".py",
   "mimetype": "text/x-python",
   "name": "python",
   "nbconvert_exporter": "python",
   "pygments_lexer": "ipython3",
   "version": "3.7.3"
  }
 },
 "nbformat": 4,
 "nbformat_minor": 2
}
